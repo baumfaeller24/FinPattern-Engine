{
 "cells": [
  {
   "cell_type": "markdown",
   "metadata": {},
   "source": [
    "# Backend Validation: Module 1 - DataIngest\n",
    "\n",
    "This notebook validates the `DataIngest` module of the FinPattern-Engine.\n",
    "\n",
    "**Objective:**\n",
    "- Ingest the provided EUR/USD tick data.\n",
    "- Generate 100-tick, 1000-tick, and 1-minute bars.\n",
    "- Verify the output files and the manifest."
   ]
  },
  {
   "cell_type": "code",
   "execution_count": null,
   "metadata": {},
   "outputs": [],
   "source": [
    "import sys\n",
    "import os\n",
    "import json\n",
    "import pandas as pd\n",
    "\n",
    "# Add the project root to the Python path\n",
    "sys.path.append(os.path.abspath(os.path.join(os.getcwd(), '..')))\n",
    "\n",
    "from core.data_ingest.data_ingest import run as data_ingest_run\n",
    "\n",
    "# Configuration for the DataIngest module\n",
    "config = {\n",
    "    \"out_dir\": \"/home/ubuntu/FinPattern-Engine/output/data_ingest\",\n",
    "    \"csv\": {\n",
    "        \"path\": \"/home/ubuntu/FinPattern-Engine/data/EURUSD-2025-07.csv\"\n",
    "    },\n",
    "    \"symbol\": \"EURUSD\",\n",
    "    \"price_basis\": \"mid\",\n",
    "    \"max_missing_gap_seconds\": 60,\n",
    "    \"trim_weekend\": True,\n",
    "    \"bar_frames\": [\n",
    "        {\"type\": \"time\", \"unit\": \"1m\"},\n",
    "        {\"type\": \"tick\", \"count\": 100},\n",
    "        {\"type\": \"tick\", \"count\": 1000}\n",
    "    ],\n",
    "    \"pip_size\": 0.0001\n",
    "}\n",
    "\n",
    "# Run the DataIngest module\n",
    "data_ingest_output = data_ingest_run(config)\n",
    "\n",
    "# Print the output manifest\n",
    "print(json.dumps(data_ingest_output, indent=2))"
   ]
  },
  {
   "cell_type": "code",
   "execution_count": null,
   "metadata": {},
   "outputs": [],
   "source": [
    "# Verify the output files\n",
    "output_dir = config[\"out_dir\"]\n",
    "!ls -l {output_dir}\n",
    "\n",
    "# Load and inspect one of the generated bar files\n",
    "bars_1m_path = data_ingest_output[\"frames\"][\"1m\"][\"path\"]\n",
    "df_bars_1m = pd.read_parquet(bars_1m_path)\n",
    "print(\"1-minute bars:\")\n",
    "print(df_bars_1m.head())\n",
    "print(df_bars_1m.info())\n",
    "\n",
    "# Load and inspect the quality report\n",
    "quality_report_path = data_ingest_output[\"quality_report\"]\n",
    "with open(quality_report_path, 'r') as f:\n",
    "    quality_report = json.load(f)\n",
    "print(\"\\nQuality Report:\")\n",
    "print(json.dumps(quality_report, indent=2))\n",
    "\n",
    "# Load and inspect the manifest\n",
    "manifest_path = data_ingest_output[\"manifest\"]\n",
    "with open(manifest_path, 'r') as f:\n",
    "    manifest = json.load(f)\n",
    "print(\"\\nManifest:\")\n",
    "print(json.dumps(manifest, indent=2))"
   ]
  }
 ],
 "metadata": {
  "kernelspec": {
   "display_name": "Python 3",
   "language": "python",
   "name": "python3"
  },
  "language_info": {
   "codemirror_mode": {
    "name": "ipython",
    "version": 3
   },
   "file_extension": ".py",
   "mimetype": "text/x-python",
   "name": "python",
   "nbconvert_exporter": "python",
   "pygments_lexer": "ipython3",
   "version": "3.11.0"
  }
 },
 "nbformat": 4,
 "nbformat_minor": 2
}

